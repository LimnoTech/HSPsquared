{
 "cells": [
  {
   "cell_type": "markdown",
   "metadata": {},
   "source": [
    "<img src=\"Images/HSP2.png\" />\n",
    "This Jupyter Notebook Copyright 2016 by RESPEC, INC.  All rights reserved.\n",
    "\n",
    "$\\textbf{HSP}^{\\textbf{2}}\\ \\text{and}\\ \\textbf{HSP2}\\ $ Copyright 2016 by RESPEC INC. and released under this [License](LegalInformation/License.txt)"
   ]
  },
  {
   "cell_type": "markdown",
   "metadata": {},
   "source": [
    "# Calleg TEST NOTEBOOK for HSP$^2$  (WORST CASE COMPARISONS)\n",
    "\n",
    "This Notebook will compare the results of running HSPF and HSP$^2$ for the basic hydrology (PWATER, IWATER, and HYDR) to confirm the proper calculations of HSP$^2$\n",
    "\n",
    "Calleg is a real watershed and has\n",
    "+ 27 IMPLND segments,\n",
    "+ 129 PERLND segments,\n",
    "+ 119 RCHRES segments,\n",
    "+ 9 years of simulation time with hourly time steps (78,888 timesteps)"
   ]
  },
  {
   "cell_type": "markdown",
   "metadata": {},
   "source": [
    "### Required Python imports  and setup"
   ]
  },
  {
   "cell_type": "code",
   "execution_count": null,
   "metadata": {},
   "outputs": [],
   "source": [
    "import numpy as np\n",
    "import pandas as pd\n",
    "\n",
    "pd.options.display.max_rows    = 25\n",
    "pd.options.display.max_columns = 20\n",
    "pd.options.display.float_format = '{:.4f}'.format  # display 2 digits after the decimal point\n",
    "\n",
    "import matplotlib.pyplot as plt\n",
    "%matplotlib inline\n",
    "\n",
    "import hspfbintoolbox\n",
    "import HSP2\n",
    "import HSP2tools\n",
    "HSP2tools.versions()"
   ]
  },
  {
   "cell_type": "markdown",
   "metadata": {},
   "source": [
    "### Setup paths to the necessary datafiles\n",
    "This assumes the calleg.uci and calleg.wdm files are located in the current working directory for this Notebook. This will create the binary output file, calleg.hbn, along with a number of other standard HSPF outputs."
   ]
  },
  {
   "cell_type": "code",
   "execution_count": null,
   "metadata": {},
   "outputs": [],
   "source": [
    "wdmpath = 'calleg.wdm'\n",
    "ucipath = 'calleg.uci'\n",
    "hdfpathx = 'callegx.h5'\n",
    "hdfpath = 'calleg.h5'\n",
    "hbnpath = 'calleg.hbn'"
   ]
  },
  {
   "cell_type": "markdown",
   "metadata": {},
   "source": [
    "## Run HSPF\n",
    "\n",
    "Using the Basins 4.1 WinHspfLt executable to run calleg.uci.\n",
    "\n",
    "This assumes the calleg.uci and calleg.wdm files are located in the current working directory for this Notebook.  This will create the binary output file, calleg.hbn, along with a number of other standard HSPF outputs."
   ]
  },
  {
   "cell_type": "code",
   "execution_count": null,
   "metadata": {},
   "outputs": [],
   "source": [
    "!echo %date% - %time%\n",
    "\n",
    "!C:\\BASINS41\\models\\HSPF\\bin\\WinHspfLt.exe {ucipath}\n",
    "    \n",
    "!echo %date% - %time%"
   ]
  },
  {
   "cell_type": "markdown",
   "metadata": {},
   "source": [
    "For development, save the best time for reference:"
   ]
  },
  {
   "cell_type": "raw",
   "metadata": {},
   "source": [
    "1 loop, best of 3: 24.4 s per loop"
   ]
  },
  {
   "cell_type": "markdown",
   "metadata": {},
   "source": [
    "Now run HSP$^2$ on the calleg watershed"
   ]
  },
  {
   "cell_type": "code",
   "execution_count": null,
   "metadata": {
    "scrolled": true
   },
   "outputs": [],
   "source": [
    "HSP2.run(hdfpath)"
   ]
  },
  {
   "cell_type": "code",
   "execution_count": null,
   "metadata": {},
   "outputs": [],
   "source": [
    "%timeit HSP2.run(hdfpath)"
   ]
  },
  {
   "cell_type": "raw",
   "metadata": {},
   "source": [
    "Development note:\n",
    "\n",
    "SAVEALL = FALSE  (new SAVE table for hot restart by default)\n",
    "2017-04-16 09:05:26.10   Run completed\n",
    "1 loop, best of 3: 32.3 s per loop\n",
    "Ratio of HSP2/HSPF 32.3/24.4 = 1.3\n",
    "\n",
    "SAVEALL = TRUE\n",
    "2017-04-11 10:18:22.86   Run completed\n",
    "1 loop, best of 3: 38.1 s per loop\n",
    "Ratio of HSP2/HSPF  38.1/24.4 = 1.6"
   ]
  },
  {
   "cell_type": "markdown",
   "metadata": {},
   "source": [
    "## Determine Available Calculated Results\n",
    "\n",
    "Now use Tim Cera's hspfbintoolbox.py to determine the available timeseries created by HSPF and stored into the HBN binary file.\n",
    "\n",
    "Time interval codes: {5: 'yearly', 4: 'monthly', 3: 'daily', 2: 'bivl'}.\n",
    "\n",
    "No daily available, so use monthly (4) timeseries for analysis."
   ]
  },
  {
   "cell_type": "code",
   "execution_count": null,
   "metadata": {
    "scrolled": true
   },
   "outputs": [],
   "source": [
    "keys = hspfbintoolbox.catalog(hbnpath).keys()\n",
    "keys[:5]  # show only the first 5 as a check"
   ]
  },
  {
   "cell_type": "markdown",
   "metadata": {},
   "source": [
    "## Automate checking IMPLNDs for SURO\n",
    "\n",
    "Extract the keys (calculated above) for IMPLD + IWATER + SURO. For each key, compute several columns.  The final column shows the percent difference of the sum of the SURO for the entire run between HSPF and HSP2."
   ]
  },
  {
   "cell_type": "code",
   "execution_count": null,
   "metadata": {},
   "outputs": [],
   "source": [
    "segments = [str(key[1]) for key in keys if key[0]=='IMPLND' and key[2]=='IWATER' and key[3]=='SURO' and key[4]==4]\n",
    "\n",
    "dfimplnd = pd.DataFrame()\n",
    "for seg in segments:  \n",
    "    path = 'IMPLND,' + seg + ',IWATER,SURO'\n",
    "    hspf = hspfbintoolbox.extract(hbnpath, 'monthly', path).values\n",
    "           \n",
    "    path = 'RESULTS/IMPLND' + '_I' + '{:0>3s}'.format(seg) + '/IWATER'\n",
    "    hsp2 = pd.read_hdf(hdfpath, path)['SURO'].resample('MS').sum().values\n",
    "    \n",
    "    #dfimplnd.at[seg, 'Max Diff'] =  (hspf - hsp2).max()\n",
    "    dfimplnd.at[seg, 'Sum of HSPF'] = hspf.sum()\n",
    "    dfimplnd.at[seg, 'Sum of HSP2'] = hsp2.sum()\n",
    "    dfimplnd.at[seg, '%diff of Sum'] = 100.0 * (hspf.sum() - hsp2.sum()) / hspf.sum()\n",
    "    dfimplnd.at[seg, 'abs(%diff of Sum)'] = 100.0 * abs(hspf.sum() - hsp2.sum()) / hspf.sum()\n",
    "\n",
    "dfimplnd = dfimplnd.sort_values(by=['abs(%diff of Sum)'])\n",
    "dfimplnd"
   ]
  },
  {
   "cell_type": "markdown",
   "metadata": {},
   "source": [
    "Look at the statistics for the percent difference column"
   ]
  },
  {
   "cell_type": "code",
   "execution_count": null,
   "metadata": {},
   "outputs": [],
   "source": [
    "dfimplnd['%diff of Sum'].hist()"
   ]
  },
  {
   "cell_type": "code",
   "execution_count": null,
   "metadata": {},
   "outputs": [],
   "source": [
    "dfimplnd['%diff of Sum'].describe()"
   ]
  },
  {
   "cell_type": "code",
   "execution_count": null,
   "metadata": {},
   "outputs": [],
   "source": [
    "ils = dfimplnd.index[-1]\n",
    "print 'WORST IMPLND SEGMENT IS', ils\n",
    "print '%diff of the total SURO sum of', dfimplnd.loc[ils,'%diff of Sum']"
   ]
  },
  {
   "cell_type": "markdown",
   "metadata": {},
   "source": [
    "### Define a function to read HSPF and HSP2 data, and plot together for IMPLND"
   ]
  },
  {
   "cell_type": "code",
   "execution_count": null,
   "metadata": {},
   "outputs": [],
   "source": [
    "def imp(ils, name, how='sum'):\n",
    "    # Use Tim Cera's HBN reader to get the HSPF data  \n",
    "    path = 'IMPLND,' + str(ils) + ',IWATER,' + name\n",
    "    hspf = hspfbintoolbox.extract(hbnpath, 'monthly', path)\n",
    "\n",
    "    # Now read the corresponding HSP2 data and comvert to monthly, MS (Month Start) to match hspfbintoolbox data.\n",
    "    path = '/RESULTS/IMPLND' + '_I' + '{:0>3s}'.format(str(ils)) + '/IWATER'                                                   \n",
    "    hsp2 = pd.read_hdf(hdfpath, path)\n",
    "    if how == 'sum':\n",
    "        hsp2 = hsp2.resample('MS').sum()\n",
    "    elif how == 'last':\n",
    "        hsp2 = hsp2.resample('MS').last()\n",
    "        \n",
    "    hsp2 = hsp2[name]\n",
    "    \n",
    "    plt.figure(figsize=(10,8))\n",
    "    plt.plot(hspf.index, hspf, label='HSPF', color='r')\n",
    "    plt.plot(hsp2.index, hsp2, label='HSP2', color='b')\n",
    "    plt.legend()\n",
    "    plt.title('IMPLND ' + 'I' + '{:0>3s}'.format(str(ils)) + ', IWATER ' +  name)\n",
    "    \n",
    "    return hspf, hsp2"
   ]
  },
  {
   "cell_type": "markdown",
   "metadata": {},
   "source": [
    "#### IMPLND IWATER SURO, Monthly"
   ]
  },
  {
   "cell_type": "code",
   "execution_count": null,
   "metadata": {},
   "outputs": [],
   "source": [
    "hspf, hsp2 = imp(ils, 'SURO', 'sum')"
   ]
  },
  {
   "cell_type": "code",
   "execution_count": null,
   "metadata": {},
   "outputs": [],
   "source": [
    "plt.scatter(hspf, hsp2)\n",
    "top = 1.05 * max(hspf.values.max(), hsp2.values.max())\n",
    "plt.plot([0.0, top], [0.0, top])"
   ]
  },
  {
   "cell_type": "markdown",
   "metadata": {},
   "source": [
    "#### IMPLND IWATER IMPEV, Monthly"
   ]
  },
  {
   "cell_type": "code",
   "execution_count": null,
   "metadata": {},
   "outputs": [],
   "source": [
    "hspf, hsp2 = imp(ils, 'IMPEV')"
   ]
  },
  {
   "cell_type": "code",
   "execution_count": null,
   "metadata": {},
   "outputs": [],
   "source": [
    "plt.scatter(hspf, hsp2)\n",
    "top = 1.05 * max(hspf.values.max(), hsp2.values.max())\n",
    "plt.plot([0.0, top], [0.0, top])"
   ]
  },
  {
   "cell_type": "markdown",
   "metadata": {},
   "source": [
    "#### IMPLND IWATER PET, Monthly"
   ]
  },
  {
   "cell_type": "code",
   "execution_count": null,
   "metadata": {},
   "outputs": [],
   "source": [
    "hspf, hsp2 = imp(ils, 'PET')"
   ]
  },
  {
   "cell_type": "code",
   "execution_count": null,
   "metadata": {},
   "outputs": [],
   "source": [
    "plt.scatter(hspf, hsp2)\n",
    "top = 1.05 * max(hspf.values.max(), hsp2.values.max())\n",
    "plt.plot([0.0, top], [0.0, top])"
   ]
  },
  {
   "cell_type": "markdown",
   "metadata": {},
   "source": [
    "#### IMPLND IWATER RETS, Monthly"
   ]
  },
  {
   "cell_type": "code",
   "execution_count": null,
   "metadata": {},
   "outputs": [],
   "source": [
    "hspf, hsp2 = imp(ils, 'RETS', 'last')"
   ]
  },
  {
   "cell_type": "code",
   "execution_count": null,
   "metadata": {},
   "outputs": [],
   "source": [
    "plt.scatter(hspf, hsp2)\n",
    "top = 1.05 * max(hspf.values.max(), hsp2.values.max())\n",
    "plt.plot([0.0, top], [0.0, top])"
   ]
  },
  {
   "cell_type": "markdown",
   "metadata": {},
   "source": [
    "#### IMPLND IWATER SUPY, Monthly"
   ]
  },
  {
   "cell_type": "code",
   "execution_count": null,
   "metadata": {},
   "outputs": [],
   "source": [
    "hspf, hsp2 = imp(ils, 'SUPY')"
   ]
  },
  {
   "cell_type": "code",
   "execution_count": null,
   "metadata": {},
   "outputs": [],
   "source": [
    "plt.scatter(hspf, hsp2)\n",
    "top = 1.05 * max(hspf.values.max(), hsp2.values.max())\n",
    "plt.plot([0.0, top], [0.0, top])"
   ]
  },
  {
   "cell_type": "markdown",
   "metadata": {},
   "source": [
    "#### IMPLND IWATER SURS, Monthly"
   ]
  },
  {
   "cell_type": "code",
   "execution_count": null,
   "metadata": {},
   "outputs": [],
   "source": [
    "hspf, hsp2 = imp(ils, 'SURS', 'last')"
   ]
  },
  {
   "cell_type": "code",
   "execution_count": null,
   "metadata": {},
   "outputs": [],
   "source": [
    "plt.scatter(hspf, hsp2)\n",
    "top = 1.05 * max(hspf.values.max(), hsp2.values.max())\n",
    "plt.plot([0.0, top], [0.0, top])"
   ]
  },
  {
   "cell_type": "code",
   "execution_count": null,
   "metadata": {},
   "outputs": [],
   "source": []
  },
  {
   "cell_type": "markdown",
   "metadata": {},
   "source": [
    "## Automate checking PERLNDs for PERO\n",
    "\n",
    "### Define routine to read HSPF and HSP2 data and plot together"
   ]
  },
  {
   "cell_type": "code",
   "execution_count": null,
   "metadata": {},
   "outputs": [],
   "source": [
    "def per(pls, name, how='sum'):\n",
    "    # Use Tim Cera's HBN reader to get the HSPF data  \n",
    "    path = 'PERLND,' + str(pls) + ',PWATER,' + name\n",
    "    hspf = hspfbintoolbox.extract(hbnpath, 'monthly', path)\n",
    "    \n",
    "    # Now read the corresponding HSP2 data and comvert to monthly\n",
    "    path = '/RESULTS/PERLND' +  '_P' + '{:0>3s}'.format(str(pls)) + '/PWATER'\n",
    "    if how == 'sum':\n",
    "        hsp2 = pd.read_hdf(hdfpath, path)[name].resample('MS').sum()\n",
    "    elif how == 'last':\n",
    "        hsp2 = pd.read_hdf(hdfpath, path)[name].resample('MS').last()\n",
    "    \n",
    "    plt.figure(figsize=(10,8))\n",
    "    plt.plot(hspf.index, hspf, label='HSPF', color='r')\n",
    "    plt.plot(hsp2.index, hsp2, label='HSP2', color='b')\n",
    "    plt.legend()\n",
    "    plt.title('PERLND ' + 'P' + '{:0>3s}'.format(str(pls))+ ', PWATER ' +  name)\n",
    "    \n",
    "    return hspf, hsp2"
   ]
  },
  {
   "cell_type": "markdown",
   "metadata": {},
   "source": [
    "### Now find all available monthly data"
   ]
  },
  {
   "cell_type": "code",
   "execution_count": null,
   "metadata": {},
   "outputs": [],
   "source": [
    "segments = [str(key[1]) for key in keys if key[0]=='PERLND' and key[2]=='PWATER' and key[3]=='PERO' and key[4]==4]\n",
    "\n",
    "dfperlnd = pd.DataFrame()\n",
    "for seg in segments:  \n",
    "    path = 'PERLND,' + seg + ',PWATER,PERO'\n",
    "    hspf = hspfbintoolbox.extract(hbnpath, 'monthly', path).values\n",
    "  \n",
    "    path =  'RESULTS/PERLND' +  '_P' + '{:0>3s}'.format(str(seg)) + '/PWATER'   \n",
    "    hsp2 = pd.read_hdf(hdfpath, path)['PERO'].resample('MS').sum().values\n",
    "\n",
    "    #dfperlnd.at[seg, 'Max Diff'] =  (hspf - hsp2).max()\n",
    "    dfperlnd.at[seg, 'Sum of HSPF'] = hspf.sum()\n",
    "    dfperlnd.at[seg, 'Sum of HSP2'] = hsp2.sum()\n",
    "    dfperlnd.at[seg, '%diff of Sum'] = 100.0 * (hspf.sum() - hsp2.sum()) / hspf.sum()\n",
    "    dfperlnd.at[seg, 'abs(%diff of Sum)'] = 100.0 * abs(hspf.sum() - hsp2.sum()) / hspf.sum()\n",
    "\n",
    "dfperlnd = dfperlnd.sort_values(by=['abs(%diff of Sum)'])    \n",
    "dfperlnd"
   ]
  },
  {
   "cell_type": "code",
   "execution_count": null,
   "metadata": {},
   "outputs": [],
   "source": [
    "dfperlnd['%diff of Sum'].hist(bins=40)"
   ]
  },
  {
   "cell_type": "code",
   "execution_count": null,
   "metadata": {},
   "outputs": [],
   "source": [
    "dfperlnd['%diff of Sum'].describe()"
   ]
  },
  {
   "cell_type": "markdown",
   "metadata": {},
   "source": [
    "The PERLND segments are ordered in assending \"abs(%diff of Sum)\", so the last entry is the worst case (by this measure.)"
   ]
  },
  {
   "cell_type": "code",
   "execution_count": null,
   "metadata": {},
   "outputs": [],
   "source": [
    "pls = dfperlnd.index[-1]\n",
    "print 'WORST PERLND SEGMENT IS', pls\n",
    "print '%diff of the total PERO sum of', dfperlnd.loc[pls,'%diff of Sum']"
   ]
  },
  {
   "cell_type": "markdown",
   "metadata": {},
   "source": [
    "#### PERLND PWATER AGWO"
   ]
  },
  {
   "cell_type": "code",
   "execution_count": null,
   "metadata": {},
   "outputs": [],
   "source": [
    "hspf, hsp2 = per(pls, 'AGWO')"
   ]
  },
  {
   "cell_type": "code",
   "execution_count": null,
   "metadata": {},
   "outputs": [],
   "source": [
    "plt.scatter(hspf, hsp2)\n",
    "top = 1.05 * max(hspf.values.max(), hsp2.values.max())\n",
    "plt.plot([0.0, top], [0.0, top])"
   ]
  },
  {
   "cell_type": "markdown",
   "metadata": {},
   "source": [
    "#### PERLND PWATER BASET"
   ]
  },
  {
   "cell_type": "code",
   "execution_count": null,
   "metadata": {},
   "outputs": [],
   "source": [
    "hspf, hsp2 = per(pls, 'BASET')"
   ]
  },
  {
   "cell_type": "code",
   "execution_count": null,
   "metadata": {},
   "outputs": [],
   "source": [
    "plt.scatter(hspf, hsp2)\n",
    "top = 1.05 * max(hspf.values.max(), hsp2.values.max())\n",
    "plt.plot([0.0, top], [0.0, top])"
   ]
  },
  {
   "cell_type": "markdown",
   "metadata": {},
   "source": [
    "##### PERLND PWATER CEPE"
   ]
  },
  {
   "cell_type": "code",
   "execution_count": null,
   "metadata": {},
   "outputs": [],
   "source": [
    "hspf, hsp2 = per(pls, 'CEPE')"
   ]
  },
  {
   "cell_type": "code",
   "execution_count": null,
   "metadata": {},
   "outputs": [],
   "source": [
    "plt.scatter(hspf, hsp2)\n",
    "top = 1.05 * max(hspf.values.max(), hsp2.values.max())\n",
    "plt.plot([0.0, top], [0.0, top])"
   ]
  },
  {
   "cell_type": "markdown",
   "metadata": {},
   "source": [
    "#### PERLND PWATER IFWI"
   ]
  },
  {
   "cell_type": "code",
   "execution_count": null,
   "metadata": {},
   "outputs": [],
   "source": [
    "hspf, hsp2 = per(pls, 'IFWI')"
   ]
  },
  {
   "cell_type": "code",
   "execution_count": null,
   "metadata": {},
   "outputs": [],
   "source": [
    "plt.scatter(hspf, hsp2)\n",
    "top = 1.05 * max(hspf.values.max(), hsp2.values.max())\n",
    "plt.plot([0.0, top], [0.0, top])"
   ]
  },
  {
   "cell_type": "markdown",
   "metadata": {},
   "source": [
    "#### PERLND PWATER IFWO"
   ]
  },
  {
   "cell_type": "code",
   "execution_count": null,
   "metadata": {},
   "outputs": [],
   "source": [
    "hspf, hsp2 = per(pls, 'IFWO')"
   ]
  },
  {
   "cell_type": "code",
   "execution_count": null,
   "metadata": {},
   "outputs": [],
   "source": [
    "plt.scatter(hspf, hsp2)\n",
    "top = 1.05 * max(hspf.values.max(), hsp2.values.max())\n",
    "plt.plot([0.0, top], [0.0, top])"
   ]
  },
  {
   "cell_type": "markdown",
   "metadata": {},
   "source": [
    "#### PERLND PWATER IGWI"
   ]
  },
  {
   "cell_type": "code",
   "execution_count": null,
   "metadata": {},
   "outputs": [],
   "source": [
    "hspf, hsp2 = per(pls, 'IGWI')"
   ]
  },
  {
   "cell_type": "code",
   "execution_count": null,
   "metadata": {},
   "outputs": [],
   "source": [
    "plt.scatter(hspf, hsp2)\n",
    "top = 1.05 * max(hspf.values.max(), hsp2.values.max())\n",
    "plt.plot([0.0, top], [0.0, top])"
   ]
  },
  {
   "cell_type": "markdown",
   "metadata": {},
   "source": [
    "#### PERLND PWATER INFIL"
   ]
  },
  {
   "cell_type": "code",
   "execution_count": null,
   "metadata": {},
   "outputs": [],
   "source": [
    "hspf, hsp2 = per(pls, 'INFIL')"
   ]
  },
  {
   "cell_type": "code",
   "execution_count": null,
   "metadata": {},
   "outputs": [],
   "source": [
    "plt.scatter(hspf, hsp2)\n",
    "top = 1.05 * max(hspf.values.max(), hsp2.values.max())\n",
    "plt.plot([0.0, top], [0.0, top])"
   ]
  },
  {
   "cell_type": "markdown",
   "metadata": {},
   "source": [
    "#### PERLND PWATER LZET"
   ]
  },
  {
   "cell_type": "code",
   "execution_count": null,
   "metadata": {},
   "outputs": [],
   "source": [
    "hspf, hsp2 = per(pls, 'LZET')"
   ]
  },
  {
   "cell_type": "code",
   "execution_count": null,
   "metadata": {},
   "outputs": [],
   "source": [
    "plt.scatter(hspf, hsp2)\n",
    "top = 1.05 * max(hspf.values.max(), hsp2.values.max())\n",
    "plt.plot([0.0, top], [0.0, top])"
   ]
  },
  {
   "cell_type": "markdown",
   "metadata": {},
   "source": [
    "#### PERLND PWATER PERC"
   ]
  },
  {
   "cell_type": "code",
   "execution_count": null,
   "metadata": {},
   "outputs": [],
   "source": [
    "hspf, hsp2 = per(pls, 'PERC')"
   ]
  },
  {
   "cell_type": "code",
   "execution_count": null,
   "metadata": {},
   "outputs": [],
   "source": [
    "plt.scatter(hspf, hsp2)\n",
    "top = 1.05 * max(hspf.values.max(), hsp2.values.max())\n",
    "plt.plot([0.0, top], [0.0, top])"
   ]
  },
  {
   "cell_type": "markdown",
   "metadata": {},
   "source": [
    "#### PERLND PWATER PERO"
   ]
  },
  {
   "cell_type": "code",
   "execution_count": null,
   "metadata": {},
   "outputs": [],
   "source": [
    "hspf, hsp2 = per(pls, 'PERO')"
   ]
  },
  {
   "cell_type": "code",
   "execution_count": null,
   "metadata": {},
   "outputs": [],
   "source": [
    "plt.scatter(hspf, hsp2)\n",
    "top = 1.05 * max(hspf.values.max(), hsp2.values.max())\n",
    "plt.plot([0.0, top], [0.0, top])"
   ]
  },
  {
   "cell_type": "markdown",
   "metadata": {},
   "source": [
    "#### PERLND PWATER PERS"
   ]
  },
  {
   "cell_type": "code",
   "execution_count": null,
   "metadata": {},
   "outputs": [],
   "source": [
    "hspf, hsp2 = per(pls, 'PERS', 'last')"
   ]
  },
  {
   "cell_type": "code",
   "execution_count": null,
   "metadata": {},
   "outputs": [],
   "source": [
    "plt.scatter(hspf, hsp2)\n",
    "top = 1.05 * max(hspf.values.max(), hsp2.values.max())\n",
    "plt.plot([0.0, top], [0.0, top])"
   ]
  },
  {
   "cell_type": "markdown",
   "metadata": {},
   "source": [
    "#### PERLND PWATER PET, Monthly"
   ]
  },
  {
   "cell_type": "code",
   "execution_count": null,
   "metadata": {},
   "outputs": [],
   "source": [
    "hspf, hsp2 = per(pls, 'PET')"
   ]
  },
  {
   "cell_type": "code",
   "execution_count": null,
   "metadata": {},
   "outputs": [],
   "source": [
    "plt.scatter(hspf, hsp2)\n",
    "top = 1.05 * max(hspf.values.max(), hsp2.values.max())\n",
    "plt.plot([0.0, top], [0.0, top])"
   ]
  },
  {
   "cell_type": "markdown",
   "metadata": {},
   "source": [
    "#### PERLND PWATER SUPY"
   ]
  },
  {
   "cell_type": "code",
   "execution_count": null,
   "metadata": {},
   "outputs": [],
   "source": [
    "hspf, hsp2 = per(pls, 'SUPY')"
   ]
  },
  {
   "cell_type": "code",
   "execution_count": null,
   "metadata": {},
   "outputs": [],
   "source": [
    "plt.scatter(hspf, hsp2)\n",
    "top = 1.05 * max(hspf.values.max(), hsp2.values.max())\n",
    "plt.plot([0.0, top], [0.0, top])"
   ]
  },
  {
   "cell_type": "markdown",
   "metadata": {},
   "source": [
    "#### PERLND PWATER SURO"
   ]
  },
  {
   "cell_type": "code",
   "execution_count": null,
   "metadata": {},
   "outputs": [],
   "source": [
    "hspf, hsp2 = per(pls, 'SURO')"
   ]
  },
  {
   "cell_type": "code",
   "execution_count": null,
   "metadata": {},
   "outputs": [],
   "source": [
    "plt.scatter(hspf, hsp2)\n",
    "top = 1.05 * max(hspf.values.max(), hsp2.values.max())\n",
    "plt.plot([0.0, top], [0.0, top])"
   ]
  },
  {
   "cell_type": "markdown",
   "metadata": {},
   "source": [
    "#### PERLND PWATER TAET"
   ]
  },
  {
   "cell_type": "code",
   "execution_count": null,
   "metadata": {},
   "outputs": [],
   "source": [
    "hspf, hsp2 = per(pls, 'TAET')"
   ]
  },
  {
   "cell_type": "code",
   "execution_count": null,
   "metadata": {},
   "outputs": [],
   "source": [
    "plt.scatter(hspf, hsp2)\n",
    "top = 1.05 * max(hspf.values.max(), hsp2.values.max())\n",
    "plt.plot([0.0, top], [0.0, top])"
   ]
  },
  {
   "cell_type": "markdown",
   "metadata": {},
   "source": [
    "#### PERLND PWATER UZET"
   ]
  },
  {
   "cell_type": "code",
   "execution_count": null,
   "metadata": {},
   "outputs": [],
   "source": [
    "hspf, hsp2 = per(pls, 'UZET')"
   ]
  },
  {
   "cell_type": "code",
   "execution_count": null,
   "metadata": {},
   "outputs": [],
   "source": [
    "plt.scatter(hspf, hsp2)\n",
    "top = 1.05 * max(hspf.values.max(), hsp2.values.max())\n",
    "plt.plot([0.0, top], [0.0, top])"
   ]
  },
  {
   "cell_type": "markdown",
   "metadata": {},
   "source": [
    "#### PERLND PWATER UZI"
   ]
  },
  {
   "cell_type": "code",
   "execution_count": null,
   "metadata": {},
   "outputs": [],
   "source": [
    "hspf, hsp2 = per(pls, 'UZI')"
   ]
  },
  {
   "cell_type": "code",
   "execution_count": null,
   "metadata": {},
   "outputs": [],
   "source": [
    "plt.scatter(hspf, hsp2)\n",
    "top = 1.05 * max(hspf.values.max(), hsp2.values.max())\n",
    "plt.plot([0.0, top], [0.0, top])"
   ]
  },
  {
   "cell_type": "code",
   "execution_count": null,
   "metadata": {},
   "outputs": [],
   "source": []
  },
  {
   "cell_type": "markdown",
   "metadata": {},
   "source": [
    "## RCHRES"
   ]
  },
  {
   "cell_type": "markdown",
   "metadata": {},
   "source": [
    "### Define routine to read HSPF and HSP2, plot together for RCHRES"
   ]
  },
  {
   "cell_type": "code",
   "execution_count": null,
   "metadata": {},
   "outputs": [],
   "source": [
    "def rch(rid, name, how='sum'):\n",
    "    # Use Tim Cera's HBN reader to get the HSPF data  \n",
    "    path = 'RCHRES,' + str(rid) + ',HYDR,' + name\n",
    "    hspf = hspfbintoolbox.extract(hbnpath, 'monthly', path)\n",
    "    \n",
    "    # Now read the corresponding HSP2 data and comvert to monthly\n",
    "    path = '/RESULTS/RCHRES' +   '_R' + '{:0>3s}'.format(str(rid)) + '/HYDR'\n",
    "    if how == 'sum':\n",
    "        hsp2 = pd.read_hdf(hdfpath, path)[name].resample('MS').sum()\n",
    "    elif how == 'last':\n",
    "        hsp2 = pd.read_hdf(hdfpath, path)[name].resample('MS').last()\n",
    "    \n",
    "    plt.figure(figsize=(10,8))\n",
    "    plt.plot(hspf.index, hspf, label='HSPF', color='r')\n",
    "    plt.plot(hsp2.index, hsp2, label='HSP2', color='b')\n",
    "    plt.legend()\n",
    "    plt.title('RCHRES ' +   'R' + '{:0>3s}'.format(str(rid)) + ', HYDR ' +  name)\n",
    "    \n",
    "    return hspf, hsp2"
   ]
  },
  {
   "cell_type": "markdown",
   "metadata": {},
   "source": [
    "### Automate checking RCHRESs for ROVOL"
   ]
  },
  {
   "cell_type": "code",
   "execution_count": null,
   "metadata": {},
   "outputs": [],
   "source": [
    "segments = [str(key[1]) for key in keys if key[0]=='RCHRES' and key[2]=='HYDR' and key[3]=='ROVOL' and key[4]==4]\n",
    "\n",
    "dfrchres = pd.DataFrame()\n",
    "for seg in segments:  \n",
    "    path = 'RCHRES,' + seg + ',HYDR,ROVOL'\n",
    "    hspf = hspfbintoolbox.extract(hbnpath, 'monthly', path).values\n",
    "\n",
    "    path = 'RESULTS/RCHRES'+   '_R' + '{:0>3s}'.format(str(seg)) +'/HYDR' \n",
    "    hsp2 = pd.read_hdf(hdfpath, path)['ROVOL'].resample('MS').sum().values\n",
    "    \n",
    "    #dfrchres.at[seg, 'Max Diff'] =  (hspf - hsp2).max()\n",
    "    dfrchres.at[seg, 'Sum of HSPF'] = hspf.sum()\n",
    "    dfrchres.at[seg, 'Sum of HSP2'] = hsp2.sum()\n",
    "    dfrchres.at[seg, '%diff of Sum'] = 100.0 * (hspf.sum() - hsp2.sum()) / hspf.sum()\n",
    "    dfrchres.at[seg, 'abs(%diff of Sum)'] = 100.0 * abs(hspf.sum() - hsp2.sum()) / hspf.sum()    \n",
    "\n",
    "dfrchres = dfrchres.sort_values(by ='abs(%diff of Sum)')    \n",
    "dfrchres"
   ]
  },
  {
   "cell_type": "code",
   "execution_count": null,
   "metadata": {},
   "outputs": [],
   "source": [
    "dfrchres['%diff of Sum'].hist(bins=40)"
   ]
  },
  {
   "cell_type": "code",
   "execution_count": null,
   "metadata": {
    "scrolled": true
   },
   "outputs": [],
   "source": [
    "dfrchres['%diff of Sum'].describe()"
   ]
  },
  {
   "cell_type": "markdown",
   "metadata": {},
   "source": [
    "The RCHRES segments are ordered in assending \"abs(%diff of Sum)\", so the last entry is the worst case (by this measure.)"
   ]
  },
  {
   "cell_type": "code",
   "execution_count": null,
   "metadata": {},
   "outputs": [],
   "source": [
    "rid = dfrchres.index[-1]\n",
    "print 'WORST RCHRES SEGMENT IS', rid\n",
    "print '%diff of the total PERO sum of', dfrchres.loc[rid,'%diff of Sum']"
   ]
  },
  {
   "cell_type": "code",
   "execution_count": null,
   "metadata": {},
   "outputs": [],
   "source": [
    "dfrchres.loc[str(rid),:]    #['%diff of Sum'].describe()"
   ]
  },
  {
   "cell_type": "markdown",
   "metadata": {},
   "source": [
    "#### RCHRES HYDR IVOL"
   ]
  },
  {
   "cell_type": "code",
   "execution_count": null,
   "metadata": {},
   "outputs": [],
   "source": [
    "hspf, hsp2 = rch(rid, 'IVOL')"
   ]
  },
  {
   "cell_type": "code",
   "execution_count": null,
   "metadata": {},
   "outputs": [],
   "source": [
    "plt.scatter(hspf, hsp2)\n",
    "top = 1.05 * max(hspf.values.max(), hsp2.values.max())\n",
    "plt.plot([0.0, top], [0.0, top])"
   ]
  },
  {
   "cell_type": "markdown",
   "metadata": {},
   "source": [
    "#### RCHRES HYDR PRSUPY"
   ]
  },
  {
   "cell_type": "code",
   "execution_count": null,
   "metadata": {},
   "outputs": [],
   "source": [
    "hspf, hsp2 = rch(rid, 'PRSUPY')"
   ]
  },
  {
   "cell_type": "code",
   "execution_count": null,
   "metadata": {},
   "outputs": [],
   "source": [
    "plt.scatter(hspf, hsp2)\n",
    "top = 1.05 * max(hspf.values.max(), hsp2.values.max())\n",
    "plt.plot([0.0, top], [0.0, top])"
   ]
  },
  {
   "cell_type": "markdown",
   "metadata": {},
   "source": [
    "#### RCHRES HYDR ROVOL"
   ]
  },
  {
   "cell_type": "code",
   "execution_count": null,
   "metadata": {},
   "outputs": [],
   "source": [
    "hspf, hsp2 = rch(rid, 'ROVOL')"
   ]
  },
  {
   "cell_type": "code",
   "execution_count": null,
   "metadata": {},
   "outputs": [],
   "source": [
    "plt.scatter(hspf, hsp2)\n",
    "top = 1.05 * max(hspf.values.max(), hsp2.values.max())\n",
    "plt.plot([0.0, top], [0.0, top])"
   ]
  },
  {
   "cell_type": "markdown",
   "metadata": {},
   "source": [
    "#### RCHRES HYDR VOL"
   ]
  },
  {
   "cell_type": "code",
   "execution_count": null,
   "metadata": {},
   "outputs": [],
   "source": [
    "hspf, hsp2 = rch(rid, 'VOL', 'last')"
   ]
  },
  {
   "cell_type": "code",
   "execution_count": null,
   "metadata": {},
   "outputs": [],
   "source": [
    "plt.scatter(hspf, hsp2)\n",
    "top = 1.05 * max(hspf.values.max(), hsp2.values.max())\n",
    "plt.plot([0.0, top], [0.0, top])"
   ]
  },
  {
   "cell_type": "markdown",
   "metadata": {},
   "source": [
    "#### RCHRES HYDR VOLEV"
   ]
  },
  {
   "cell_type": "code",
   "execution_count": null,
   "metadata": {},
   "outputs": [],
   "source": [
    "hspf, hsp2 = rch(rid, 'VOLEV')"
   ]
  },
  {
   "cell_type": "code",
   "execution_count": null,
   "metadata": {},
   "outputs": [],
   "source": [
    "plt.scatter(hspf, hsp2)\n",
    "top = 1.05 * max(hspf.values.max(), hsp2.values.max())\n",
    "plt.plot([0.0, top], [0.0, top])"
   ]
  },
  {
   "cell_type": "code",
   "execution_count": null,
   "metadata": {},
   "outputs": [],
   "source": []
  },
  {
   "cell_type": "code",
   "execution_count": null,
   "metadata": {},
   "outputs": [],
   "source": []
  }
 ],
 "metadata": {
  "kernelspec": {
   "display_name": "Python 3",
   "language": "python",
   "name": "python3"
  },
  "language_info": {
   "codemirror_mode": {
    "name": "ipython",
    "version": 3
   },
   "file_extension": ".py",
   "mimetype": "text/x-python",
   "name": "python",
   "nbconvert_exporter": "python",
   "pygments_lexer": "ipython3",
   "version": "3.7.4"
  }
 },
 "nbformat": 4,
 "nbformat_minor": 4
}
