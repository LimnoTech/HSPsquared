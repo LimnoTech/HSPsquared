{
 "cells": [
  {
   "cell_type": "markdown",
   "metadata": {},
   "source": [
    "# HSP2 BUILD and RUN SIMULATION\n",
    "\n",
    "Place this Jupyter Notebook in a directory with one UCI and one or more WDM files."
   ]
  },
  {
   "cell_type": "markdown",
   "metadata": {},
   "source": [
    "## Required Python Imports"
   ]
  },
  {
   "cell_type": "code",
   "execution_count": 1,
   "metadata": {
    "jupyter": {
     "outputs_hidden": false
    }
   },
   "outputs": [],
   "source": [
    "import HSP2\n",
    "import HSP2tools\n",
    "\n",
    "from glob import glob"
   ]
  },
  {
   "cell_type": "code",
   "execution_count": null,
   "metadata": {
    "jupyter": {
     "outputs_hidden": false
    }
   },
   "outputs": [],
   "source": [
    "#Commented out due to errors with .versions()\n",
    "\n",
    "#HSP2tools.versions()"
   ]
  },
  {
   "cell_type": "markdown",
   "metadata": {},
   "source": [
    "## BUILD HDF5 FILE From UCI and WDM files"
   ]
  },
  {
   "cell_type": "markdown",
   "metadata": {},
   "source": [
    "Get the name of the UCI file."
   ]
  },
  {
   "cell_type": "code",
   "execution_count": 2,
   "metadata": {
    "jupyter": {
     "outputs_hidden": false
    }
   },
   "outputs": [
    {
     "data": {
      "text/plain": [
       "'GLWA_HSPF_June2019_Mon8MileDataFilled_WT_RW_v4.UCI'"
      ]
     },
     "execution_count": 2,
     "metadata": {},
     "output_type": "execute_result"
    }
   ],
   "source": [
    "uciname = glob('*.uci')[0]\n",
    "uciname"
   ]
  },
  {
   "cell_type": "markdown",
   "metadata": {},
   "source": [
    "Create HDF5 filename from the leading part of the UCI filename."
   ]
  },
  {
   "cell_type": "code",
   "execution_count": 3,
   "metadata": {
    "jupyter": {
     "outputs_hidden": false
    }
   },
   "outputs": [
    {
     "data": {
      "text/plain": [
       "'GLWA_HSPF_June2019_Mon8MileDataFilled_WT_RW_v4.h5'"
      ]
     },
     "execution_count": 3,
     "metadata": {},
     "output_type": "execute_result"
    }
   ],
   "source": [
    "HDFname = uciname.split('.')[0] + '.h5'\n",
    "HDFname"
   ]
  },
  {
   "cell_type": "code",
   "execution_count": 5,
   "metadata": {
    "jupyter": {
     "outputs_hidden": false
    }
   },
   "outputs": [
    {
     "name": "stderr",
     "output_type": "stream",
     "text": [
      "Could Not Find C:\\Users\\bcousino\\Documents\\GitHub\\limno_HSPsquared\\tests\\GLWACSO\\GLWA_HSPF_June2019_Mon8MileDataFilled_WT_RW_v4.h5\n"
     ]
    }
   ],
   "source": [
    "!del {HDFname}"
   ]
  },
  {
   "cell_type": "markdown",
   "metadata": {},
   "source": [
    "Create the HDF5 file filled with the UCI data"
   ]
  },
  {
   "cell_type": "code",
   "execution_count": 6,
   "metadata": {
    "jupyter": {
     "outputs_hidden": false
    },
    "scrolled": true
   },
   "outputs": [
    {
     "name": "stdout",
     "output_type": "stream",
     "text": [
      "8.76 s ± 284 ms per loop (mean ± std. dev. of 7 runs, 1 loop each)\n"
     ]
    }
   ],
   "source": [
    "%timeit HSP2tools.readUCI(uciname, HDFname)"
   ]
  },
  {
   "cell_type": "markdown",
   "metadata": {},
   "source": [
    "Add the timeseries data to the HDF5 file."
   ]
  },
  {
   "cell_type": "code",
   "execution_count": null,
   "metadata": {
    "jupyter": {
     "outputs_hidden": false
    }
   },
   "outputs": [],
   "source": [
    "wdmnames = glob('*.wdm')\n",
    "wdmnames"
   ]
  },
  {
   "cell_type": "markdown",
   "metadata": {},
   "source": [
    "Add each WDM file one at a time and create a copy of the .h5 file after each to see the file configuration when it stops."
   ]
  },
  {
   "cell_type": "code",
   "execution_count": 9,
   "metadata": {},
   "outputs": [
    {
     "data": {
      "text/html": [
       "<div>\n",
       "<style scoped>\n",
       "    .dataframe tbody tr th:only-of-type {\n",
       "        vertical-align: middle;\n",
       "    }\n",
       "\n",
       "    .dataframe tbody tr th {\n",
       "        vertical-align: top;\n",
       "    }\n",
       "\n",
       "    .dataframe thead th {\n",
       "        text-align: right;\n",
       "    }\n",
       "</style>\n",
       "<table border=\"1\" class=\"dataframe\">\n",
       "  <thead>\n",
       "    <tr style=\"text-align: right;\">\n",
       "      <th></th>\n",
       "      <th>Start</th>\n",
       "      <th>Stop</th>\n",
       "      <th>Freq</th>\n",
       "      <th>Length</th>\n",
       "      <th>TSTYPE</th>\n",
       "      <th>TFILL</th>\n",
       "      <th>SCENARIO</th>\n",
       "      <th>CONSTITUENT</th>\n",
       "      <th>LOCATION</th>\n",
       "    </tr>\n",
       "  </thead>\n",
       "  <tbody>\n",
       "    <tr>\n",
       "      <th>TS012</th>\n",
       "      <td>2016-01-01 00:00:00</td>\n",
       "      <td>2019-01-01 00:00:00</td>\n",
       "      <td>15min</td>\n",
       "      <td>105216</td>\n",
       "      <td>FLOW</td>\n",
       "      <td>-999.0</td>\n",
       "      <td>Monitore</td>\n",
       "      <td>FLOW</td>\n",
       "      <td>UR</td>\n",
       "    </tr>\n",
       "    <tr>\n",
       "      <th>TS021</th>\n",
       "      <td>1999-01-01 00:00:00</td>\n",
       "      <td>2019-01-01 00:00:00</td>\n",
       "      <td>1H</td>\n",
       "      <td>175320</td>\n",
       "      <td>PREC</td>\n",
       "      <td>-999.0</td>\n",
       "      <td>OBSERVED</td>\n",
       "      <td>PREC</td>\n",
       "      <td>KDTW</td>\n",
       "    </tr>\n",
       "    <tr>\n",
       "      <th>TS083</th>\n",
       "      <td>1999-01-01 00:00:00</td>\n",
       "      <td>2019-01-01 00:00:00</td>\n",
       "      <td>1D</td>\n",
       "      <td>7305</td>\n",
       "      <td>DSOL</td>\n",
       "      <td>-999.0</td>\n",
       "      <td>COMPUTED</td>\n",
       "      <td>DSOL</td>\n",
       "      <td>KDTW</td>\n",
       "    </tr>\n",
       "    <tr>\n",
       "      <th>TS055</th>\n",
       "      <td>1999-01-01 00:00:00</td>\n",
       "      <td>2019-01-01 00:00:00</td>\n",
       "      <td>1H</td>\n",
       "      <td>175320</td>\n",
       "      <td>SOLR</td>\n",
       "      <td>-999.0</td>\n",
       "      <td>COMPUTED</td>\n",
       "      <td>SOLR</td>\n",
       "      <td>KDTW</td>\n",
       "    </tr>\n",
       "    <tr>\n",
       "      <th>TS057</th>\n",
       "      <td>1999-01-01 00:00:00</td>\n",
       "      <td>2019-01-01 00:00:00</td>\n",
       "      <td>1H</td>\n",
       "      <td>175320</td>\n",
       "      <td>DEWP</td>\n",
       "      <td>-999.0</td>\n",
       "      <td>OBSERVED</td>\n",
       "      <td>DEWP</td>\n",
       "      <td>KDTW</td>\n",
       "    </tr>\n",
       "    <tr>\n",
       "      <th>TS054</th>\n",
       "      <td>1999-01-01 00:00:00</td>\n",
       "      <td>2019-01-01 00:00:00</td>\n",
       "      <td>1H</td>\n",
       "      <td>175320</td>\n",
       "      <td>WIND</td>\n",
       "      <td>-999.0</td>\n",
       "      <td>OBSERVED</td>\n",
       "      <td>WIND</td>\n",
       "      <td>KDTW</td>\n",
       "    </tr>\n",
       "    <tr>\n",
       "      <th>TS080</th>\n",
       "      <td>1999-01-01 00:00:00</td>\n",
       "      <td>2019-01-01 00:00:00</td>\n",
       "      <td>1H</td>\n",
       "      <td>175320</td>\n",
       "      <td>DSAT</td>\n",
       "      <td>-999.0</td>\n",
       "      <td>CALCULAT</td>\n",
       "      <td>DSAT</td>\n",
       "      <td>KDTW</td>\n",
       "    </tr>\n",
       "    <tr>\n",
       "      <th>TS058</th>\n",
       "      <td>1999-01-01 00:00:00</td>\n",
       "      <td>2019-01-01 00:00:00</td>\n",
       "      <td>1H</td>\n",
       "      <td>175320</td>\n",
       "      <td>CLOU</td>\n",
       "      <td>-999.0</td>\n",
       "      <td>ESTIMATE</td>\n",
       "      <td>CLOU</td>\n",
       "      <td>KDTW</td>\n",
       "    </tr>\n",
       "    <tr>\n",
       "      <th>TS081</th>\n",
       "      <td>1999-01-01 00:00:00</td>\n",
       "      <td>2019-01-01 00:00:00</td>\n",
       "      <td>1H</td>\n",
       "      <td>175320</td>\n",
       "      <td>UNIT</td>\n",
       "      <td>-999.0</td>\n",
       "      <td>CALCULAT</td>\n",
       "      <td>UNIT</td>\n",
       "      <td>KDTW</td>\n",
       "    </tr>\n",
       "    <tr>\n",
       "      <th>TS082</th>\n",
       "      <td>1999-01-01 00:00:00</td>\n",
       "      <td>2019-01-01 00:00:00</td>\n",
       "      <td>1D</td>\n",
       "      <td>7305</td>\n",
       "      <td>CLOU</td>\n",
       "      <td>-999.0</td>\n",
       "      <td>ESTIMATE</td>\n",
       "      <td>CLOU</td>\n",
       "      <td>KDTW</td>\n",
       "    </tr>\n",
       "    <tr>\n",
       "      <th>TS023</th>\n",
       "      <td>1999-01-01 00:00:00</td>\n",
       "      <td>2019-01-01 00:00:00</td>\n",
       "      <td>1H</td>\n",
       "      <td>175320</td>\n",
       "      <td>ATEM</td>\n",
       "      <td>-999.0</td>\n",
       "      <td>OBSERVED</td>\n",
       "      <td>ATEM</td>\n",
       "      <td>KDTW</td>\n",
       "    </tr>\n",
       "    <tr>\n",
       "      <th>TS011</th>\n",
       "      <td>2016-01-01 00:00:00</td>\n",
       "      <td>2019-01-01 00:00:00</td>\n",
       "      <td>15min</td>\n",
       "      <td>105216</td>\n",
       "      <td>FLOW</td>\n",
       "      <td>-999.0</td>\n",
       "      <td>Monitore</td>\n",
       "      <td>FLOW</td>\n",
       "      <td>US5</td>\n",
       "    </tr>\n",
       "    <tr>\n",
       "      <th>TS033</th>\n",
       "      <td>2016-01-01 00:00:00</td>\n",
       "      <td>2019-01-01 00:00:00</td>\n",
       "      <td>15min</td>\n",
       "      <td>105216</td>\n",
       "      <td>FWT</td>\n",
       "      <td>-999.0</td>\n",
       "      <td>Monitore</td>\n",
       "      <td>FWT</td>\n",
       "      <td>L05D</td>\n",
       "    </tr>\n",
       "    <tr>\n",
       "      <th>TS032</th>\n",
       "      <td>2016-01-01 00:00:00</td>\n",
       "      <td>2019-01-01 00:00:00</td>\n",
       "      <td>15min</td>\n",
       "      <td>105216</td>\n",
       "      <td>FWT</td>\n",
       "      <td>-999.0</td>\n",
       "      <td>Monitore</td>\n",
       "      <td>FWT</td>\n",
       "      <td>US7</td>\n",
       "    </tr>\n",
       "    <tr>\n",
       "      <th>TS031</th>\n",
       "      <td>2016-01-01 00:00:00</td>\n",
       "      <td>2019-01-01 00:00:00</td>\n",
       "      <td>15min</td>\n",
       "      <td>105216</td>\n",
       "      <td>FWT</td>\n",
       "      <td>-999.0</td>\n",
       "      <td>Monitore</td>\n",
       "      <td>FWT</td>\n",
       "      <td>US5</td>\n",
       "    </tr>\n",
       "    <tr>\n",
       "      <th>TS043</th>\n",
       "      <td>2016-01-01 00:00:00</td>\n",
       "      <td>2019-01-01 00:00:00</td>\n",
       "      <td>15min</td>\n",
       "      <td>105216</td>\n",
       "      <td>DO</td>\n",
       "      <td>-999.0</td>\n",
       "      <td>Monitore</td>\n",
       "      <td>DO</td>\n",
       "      <td>L05D</td>\n",
       "    </tr>\n",
       "    <tr>\n",
       "      <th>TS042</th>\n",
       "      <td>2016-01-01 00:00:00</td>\n",
       "      <td>2019-01-01 00:00:00</td>\n",
       "      <td>15min</td>\n",
       "      <td>105216</td>\n",
       "      <td>DO</td>\n",
       "      <td>-999.0</td>\n",
       "      <td>Monitore</td>\n",
       "      <td>DO</td>\n",
       "      <td>US7</td>\n",
       "    </tr>\n",
       "    <tr>\n",
       "      <th>TS041</th>\n",
       "      <td>2016-01-01 00:00:00</td>\n",
       "      <td>2019-01-01 00:00:00</td>\n",
       "      <td>15min</td>\n",
       "      <td>105216</td>\n",
       "      <td>DO</td>\n",
       "      <td>-999.0</td>\n",
       "      <td>Monitore</td>\n",
       "      <td>DO</td>\n",
       "      <td>US5</td>\n",
       "    </tr>\n",
       "    <tr>\n",
       "      <th>TS099</th>\n",
       "      <td>2016-01-01 00:00:00</td>\n",
       "      <td>2018-01-01 00:00:00</td>\n",
       "      <td>1D</td>\n",
       "      <td>731</td>\n",
       "      <td>DO</td>\n",
       "      <td>-999.0</td>\n",
       "      <td>COMPUTED</td>\n",
       "      <td>DO</td>\n",
       "      <td>8Mile</td>\n",
       "    </tr>\n",
       "    <tr>\n",
       "      <th>TS087</th>\n",
       "      <td>2016-01-01 00:00:00</td>\n",
       "      <td>2019-01-01 00:00:00</td>\n",
       "      <td>15min</td>\n",
       "      <td>105216</td>\n",
       "      <td>CHLA</td>\n",
       "      <td>-999.0</td>\n",
       "      <td>Calc</td>\n",
       "      <td>CHLA</td>\n",
       "      <td>181</td>\n",
       "    </tr>\n",
       "    <tr>\n",
       "      <th>TS084</th>\n",
       "      <td>2016-01-01 00:00:00</td>\n",
       "      <td>2019-01-01 00:00:00</td>\n",
       "      <td>15min</td>\n",
       "      <td>105216</td>\n",
       "      <td>CHLA</td>\n",
       "      <td>-999.0</td>\n",
       "      <td>Calc</td>\n",
       "      <td>CHLA</td>\n",
       "      <td>434</td>\n",
       "    </tr>\n",
       "    <tr>\n",
       "      <th>TS085</th>\n",
       "      <td>2016-01-01 00:00:00</td>\n",
       "      <td>2019-01-01 00:00:00</td>\n",
       "      <td>15min</td>\n",
       "      <td>105216</td>\n",
       "      <td>CHLA</td>\n",
       "      <td>-999.0</td>\n",
       "      <td>Calc</td>\n",
       "      <td>CHLA</td>\n",
       "      <td>319</td>\n",
       "    </tr>\n",
       "    <tr>\n",
       "      <th>TS086</th>\n",
       "      <td>2016-01-01 00:00:00</td>\n",
       "      <td>2019-01-01 00:00:00</td>\n",
       "      <td>15min</td>\n",
       "      <td>105216</td>\n",
       "      <td>CHLA</td>\n",
       "      <td>-999.0</td>\n",
       "      <td>Calc</td>\n",
       "      <td>CHLA</td>\n",
       "      <td>251</td>\n",
       "    </tr>\n",
       "    <tr>\n",
       "      <th>TS026</th>\n",
       "      <td>1999-01-01 00:00:00</td>\n",
       "      <td>2019-01-01 00:00:00</td>\n",
       "      <td>1D</td>\n",
       "      <td>7305</td>\n",
       "      <td>EVAP</td>\n",
       "      <td>-999.0</td>\n",
       "      <td>COMPUTED</td>\n",
       "      <td>EVAP</td>\n",
       "      <td>KDTW</td>\n",
       "    </tr>\n",
       "    <tr>\n",
       "      <th>TS013</th>\n",
       "      <td>2016-01-01 00:00:00</td>\n",
       "      <td>2019-01-01 00:00:00</td>\n",
       "      <td>15min</td>\n",
       "      <td>105216</td>\n",
       "      <td>FLOW</td>\n",
       "      <td>-999.0</td>\n",
       "      <td>Monitore</td>\n",
       "      <td>FLOW</td>\n",
       "      <td>US7</td>\n",
       "    </tr>\n",
       "    <tr>\n",
       "      <th>TS014</th>\n",
       "      <td>2016-01-01 00:00:00</td>\n",
       "      <td>2019-01-01 00:00:00</td>\n",
       "      <td>15min</td>\n",
       "      <td>105216</td>\n",
       "      <td>FLOW</td>\n",
       "      <td>-999.0</td>\n",
       "      <td>Monitore</td>\n",
       "      <td>FLOW</td>\n",
       "      <td>MR</td>\n",
       "    </tr>\n",
       "    <tr>\n",
       "      <th>TS015</th>\n",
       "      <td>2016-01-01 00:00:00</td>\n",
       "      <td>2019-01-01 00:00:00</td>\n",
       "      <td>15min</td>\n",
       "      <td>105216</td>\n",
       "      <td>FLOW</td>\n",
       "      <td>-999.0</td>\n",
       "      <td>Monitore</td>\n",
       "      <td>FLOW</td>\n",
       "      <td>L05D</td>\n",
       "    </tr>\n",
       "  </tbody>\n",
       "</table>\n",
       "</div>"
      ],
      "text/plain": [
       "                     Start                 Stop   Freq  Length TSTYPE  TFILL  \\\n",
       "TS012  2016-01-01 00:00:00  2019-01-01 00:00:00  15min  105216   FLOW -999.0   \n",
       "TS021  1999-01-01 00:00:00  2019-01-01 00:00:00     1H  175320   PREC -999.0   \n",
       "TS083  1999-01-01 00:00:00  2019-01-01 00:00:00     1D    7305   DSOL -999.0   \n",
       "TS055  1999-01-01 00:00:00  2019-01-01 00:00:00     1H  175320   SOLR -999.0   \n",
       "TS057  1999-01-01 00:00:00  2019-01-01 00:00:00     1H  175320   DEWP -999.0   \n",
       "TS054  1999-01-01 00:00:00  2019-01-01 00:00:00     1H  175320   WIND -999.0   \n",
       "TS080  1999-01-01 00:00:00  2019-01-01 00:00:00     1H  175320   DSAT -999.0   \n",
       "TS058  1999-01-01 00:00:00  2019-01-01 00:00:00     1H  175320   CLOU -999.0   \n",
       "TS081  1999-01-01 00:00:00  2019-01-01 00:00:00     1H  175320   UNIT -999.0   \n",
       "TS082  1999-01-01 00:00:00  2019-01-01 00:00:00     1D    7305   CLOU -999.0   \n",
       "TS023  1999-01-01 00:00:00  2019-01-01 00:00:00     1H  175320   ATEM -999.0   \n",
       "TS011  2016-01-01 00:00:00  2019-01-01 00:00:00  15min  105216   FLOW -999.0   \n",
       "TS033  2016-01-01 00:00:00  2019-01-01 00:00:00  15min  105216    FWT -999.0   \n",
       "TS032  2016-01-01 00:00:00  2019-01-01 00:00:00  15min  105216    FWT -999.0   \n",
       "TS031  2016-01-01 00:00:00  2019-01-01 00:00:00  15min  105216    FWT -999.0   \n",
       "TS043  2016-01-01 00:00:00  2019-01-01 00:00:00  15min  105216     DO -999.0   \n",
       "TS042  2016-01-01 00:00:00  2019-01-01 00:00:00  15min  105216     DO -999.0   \n",
       "TS041  2016-01-01 00:00:00  2019-01-01 00:00:00  15min  105216     DO -999.0   \n",
       "TS099  2016-01-01 00:00:00  2018-01-01 00:00:00     1D     731     DO -999.0   \n",
       "TS087  2016-01-01 00:00:00  2019-01-01 00:00:00  15min  105216   CHLA -999.0   \n",
       "TS084  2016-01-01 00:00:00  2019-01-01 00:00:00  15min  105216   CHLA -999.0   \n",
       "TS085  2016-01-01 00:00:00  2019-01-01 00:00:00  15min  105216   CHLA -999.0   \n",
       "TS086  2016-01-01 00:00:00  2019-01-01 00:00:00  15min  105216   CHLA -999.0   \n",
       "TS026  1999-01-01 00:00:00  2019-01-01 00:00:00     1D    7305   EVAP -999.0   \n",
       "TS013  2016-01-01 00:00:00  2019-01-01 00:00:00  15min  105216   FLOW -999.0   \n",
       "TS014  2016-01-01 00:00:00  2019-01-01 00:00:00  15min  105216   FLOW -999.0   \n",
       "TS015  2016-01-01 00:00:00  2019-01-01 00:00:00  15min  105216   FLOW -999.0   \n",
       "\n",
       "       SCENARIO CONSTITUENT LOCATION  \n",
       "TS012  Monitore        FLOW       UR  \n",
       "TS021  OBSERVED        PREC     KDTW  \n",
       "TS083  COMPUTED        DSOL     KDTW  \n",
       "TS055  COMPUTED        SOLR     KDTW  \n",
       "TS057  OBSERVED        DEWP     KDTW  \n",
       "TS054  OBSERVED        WIND     KDTW  \n",
       "TS080  CALCULAT        DSAT     KDTW  \n",
       "TS058  ESTIMATE        CLOU     KDTW  \n",
       "TS081  CALCULAT        UNIT     KDTW  \n",
       "TS082  ESTIMATE        CLOU     KDTW  \n",
       "TS023  OBSERVED        ATEM     KDTW  \n",
       "TS011  Monitore        FLOW      US5  \n",
       "TS033  Monitore         FWT     L05D  \n",
       "TS032  Monitore         FWT      US7  \n",
       "TS031  Monitore         FWT      US5  \n",
       "TS043  Monitore          DO     L05D  \n",
       "TS042  Monitore          DO      US7  \n",
       "TS041  Monitore          DO      US5  \n",
       "TS099  COMPUTED          DO    8Mile  \n",
       "TS087      Calc        CHLA      181  \n",
       "TS084      Calc        CHLA      434  \n",
       "TS085      Calc        CHLA      319  \n",
       "TS086      Calc        CHLA      251  \n",
       "TS026  COMPUTED        EVAP     KDTW  \n",
       "TS013  Monitore        FLOW      US7  \n",
       "TS014  Monitore        FLOW       MR  \n",
       "TS015  Monitore        FLOW     L05D  "
      ]
     },
     "execution_count": 9,
     "metadata": {},
     "output_type": "execute_result"
    }
   ],
   "source": [
    "HSP2tools.readWDM('KDTWMet-06272019-KOS_w_Mon17Filled_CHLA_ComDO.wdm', HDFname)"
   ]
  },
  {
   "cell_type": "code",
   "execution_count": 10,
   "metadata": {},
   "outputs": [
    {
     "name": "stdout",
     "output_type": "stream",
     "text": [
      "        1 file(s) copied.\n"
     ]
    }
   ],
   "source": [
    "!copy GLWA_HSPF_June2019_Mon8MileDataFilled_WT_RW_v4.h5 GLWA_HSPF_June2019_Mon8MileDataFilled_WT_RW_v4_WDM1.h5"
   ]
  },
  {
   "cell_type": "code",
   "execution_count": 11,
   "metadata": {},
   "outputs": [
    {
     "data": {
      "text/html": [
       "<div>\n",
       "<style scoped>\n",
       "    .dataframe tbody tr th:only-of-type {\n",
       "        vertical-align: middle;\n",
       "    }\n",
       "\n",
       "    .dataframe tbody tr th {\n",
       "        vertical-align: top;\n",
       "    }\n",
       "\n",
       "    .dataframe thead th {\n",
       "        text-align: right;\n",
       "    }\n",
       "</style>\n",
       "<table border=\"1\" class=\"dataframe\">\n",
       "  <thead>\n",
       "    <tr style=\"text-align: right;\">\n",
       "      <th></th>\n",
       "      <th>Start</th>\n",
       "      <th>Stop</th>\n",
       "      <th>Freq</th>\n",
       "      <th>Length</th>\n",
       "      <th>TSTYPE</th>\n",
       "      <th>TFILL</th>\n",
       "      <th>SCENARIO</th>\n",
       "      <th>CONSTITUENT</th>\n",
       "      <th>LOCATION</th>\n",
       "    </tr>\n",
       "  </thead>\n",
       "  <tbody>\n",
       "    <tr>\n",
       "      <th>TS534</th>\n",
       "      <td>2004-01-01 00:00:00</td>\n",
       "      <td>2018-01-01 00:00:00</td>\n",
       "      <td>15min</td>\n",
       "      <td>490944</td>\n",
       "      <td>TORN</td>\n",
       "      <td>-999.0</td>\n",
       "      <td>RPO_SWMM</td>\n",
       "      <td>TORN</td>\n",
       "      <td>RCH139</td>\n",
       "    </tr>\n",
       "    <tr>\n",
       "      <th>TS133</th>\n",
       "      <td>2004-01-01 00:00:00</td>\n",
       "      <td>2018-01-01 00:00:00</td>\n",
       "      <td>15min</td>\n",
       "      <td>490944</td>\n",
       "      <td>CBOD</td>\n",
       "      <td>-999.0</td>\n",
       "      <td>RPO_SWMM</td>\n",
       "      <td>CBOD</td>\n",
       "      <td>RCH133</td>\n",
       "    </tr>\n",
       "    <tr>\n",
       "      <th>TS543</th>\n",
       "      <td>2004-01-01 00:00:00</td>\n",
       "      <td>2018-01-01 00:00:00</td>\n",
       "      <td>15min</td>\n",
       "      <td>490944</td>\n",
       "      <td>TORN</td>\n",
       "      <td>-999.0</td>\n",
       "      <td>RPO_SWMM</td>\n",
       "      <td>TORN</td>\n",
       "      <td>RCH443</td>\n",
       "    </tr>\n",
       "    <tr>\n",
       "      <th>TS047</th>\n",
       "      <td>2004-01-01 00:00:00</td>\n",
       "      <td>2007-01-01 00:00:00</td>\n",
       "      <td>15min</td>\n",
       "      <td>105216</td>\n",
       "      <td>DO</td>\n",
       "      <td>-999.0</td>\n",
       "      <td>RPO_SWMM</td>\n",
       "      <td>DO</td>\n",
       "      <td>RCH447</td>\n",
       "    </tr>\n",
       "    <tr>\n",
       "      <th>TS147</th>\n",
       "      <td>2004-01-01 00:00:00</td>\n",
       "      <td>2007-01-01 00:00:00</td>\n",
       "      <td>15min</td>\n",
       "      <td>105216</td>\n",
       "      <td>CBOD</td>\n",
       "      <td>-999.0</td>\n",
       "      <td>RPO_SWMM</td>\n",
       "      <td>CBOD</td>\n",
       "      <td>RCH447</td>\n",
       "    </tr>\n",
       "    <tr>\n",
       "      <th>...</th>\n",
       "      <td>...</td>\n",
       "      <td>...</td>\n",
       "      <td>...</td>\n",
       "      <td>...</td>\n",
       "      <td>...</td>\n",
       "      <td>...</td>\n",
       "      <td>...</td>\n",
       "      <td>...</td>\n",
       "      <td>...</td>\n",
       "    </tr>\n",
       "    <tr>\n",
       "      <th>TS939</th>\n",
       "      <td>2004-01-01 00:00:00</td>\n",
       "      <td>2018-01-01 00:00:00</td>\n",
       "      <td>15min</td>\n",
       "      <td>490944</td>\n",
       "      <td>FLOW</td>\n",
       "      <td>-999.0</td>\n",
       "      <td>RPO_SWMM</td>\n",
       "      <td>FLOW</td>\n",
       "      <td>RCH439</td>\n",
       "    </tr>\n",
       "    <tr>\n",
       "      <th>TS343</th>\n",
       "      <td>2004-01-01 00:00:00</td>\n",
       "      <td>2018-01-01 00:00:00</td>\n",
       "      <td>15min</td>\n",
       "      <td>490944</td>\n",
       "      <td>NH3N</td>\n",
       "      <td>-999.0</td>\n",
       "      <td>RPO_SWMM</td>\n",
       "      <td>NH3N</td>\n",
       "      <td>RCH443</td>\n",
       "    </tr>\n",
       "    <tr>\n",
       "      <th>TS443</th>\n",
       "      <td>2004-01-01 00:00:00</td>\n",
       "      <td>2018-01-01 00:00:00</td>\n",
       "      <td>15min</td>\n",
       "      <td>490944</td>\n",
       "      <td>NOXN</td>\n",
       "      <td>-999.0</td>\n",
       "      <td>RPO_SWMM</td>\n",
       "      <td>NOXN</td>\n",
       "      <td>RCH443</td>\n",
       "    </tr>\n",
       "    <tr>\n",
       "      <th>TS643</th>\n",
       "      <td>2004-01-01 00:00:00</td>\n",
       "      <td>2018-01-01 00:00:00</td>\n",
       "      <td>15min</td>\n",
       "      <td>490944</td>\n",
       "      <td>TORP</td>\n",
       "      <td>-999.0</td>\n",
       "      <td>RPO_SWMM</td>\n",
       "      <td>TORP</td>\n",
       "      <td>RCH443</td>\n",
       "    </tr>\n",
       "    <tr>\n",
       "      <th>TS743</th>\n",
       "      <td>2004-01-01 00:00:00</td>\n",
       "      <td>2018-01-01 00:00:00</td>\n",
       "      <td>15min</td>\n",
       "      <td>490944</td>\n",
       "      <td>PO4P</td>\n",
       "      <td>-999.0</td>\n",
       "      <td>RPO_SWMM</td>\n",
       "      <td>PO4P</td>\n",
       "      <td>RCH443</td>\n",
       "    </tr>\n",
       "  </tbody>\n",
       "</table>\n",
       "<p>216 rows × 9 columns</p>\n",
       "</div>"
      ],
      "text/plain": [
       "                     Start                 Stop   Freq  Length TSTYPE  TFILL  \\\n",
       "TS534  2004-01-01 00:00:00  2018-01-01 00:00:00  15min  490944   TORN -999.0   \n",
       "TS133  2004-01-01 00:00:00  2018-01-01 00:00:00  15min  490944   CBOD -999.0   \n",
       "TS543  2004-01-01 00:00:00  2018-01-01 00:00:00  15min  490944   TORN -999.0   \n",
       "TS047  2004-01-01 00:00:00  2007-01-01 00:00:00  15min  105216     DO -999.0   \n",
       "TS147  2004-01-01 00:00:00  2007-01-01 00:00:00  15min  105216   CBOD -999.0   \n",
       "...                    ...                  ...    ...     ...    ...    ...   \n",
       "TS939  2004-01-01 00:00:00  2018-01-01 00:00:00  15min  490944   FLOW -999.0   \n",
       "TS343  2004-01-01 00:00:00  2018-01-01 00:00:00  15min  490944   NH3N -999.0   \n",
       "TS443  2004-01-01 00:00:00  2018-01-01 00:00:00  15min  490944   NOXN -999.0   \n",
       "TS643  2004-01-01 00:00:00  2018-01-01 00:00:00  15min  490944   TORP -999.0   \n",
       "TS743  2004-01-01 00:00:00  2018-01-01 00:00:00  15min  490944   PO4P -999.0   \n",
       "\n",
       "       SCENARIO CONSTITUENT LOCATION  \n",
       "TS534  RPO_SWMM        TORN   RCH139  \n",
       "TS133  RPO_SWMM        CBOD   RCH133  \n",
       "TS543  RPO_SWMM        TORN   RCH443  \n",
       "TS047  RPO_SWMM          DO   RCH447  \n",
       "TS147  RPO_SWMM        CBOD   RCH447  \n",
       "...         ...         ...      ...  \n",
       "TS939  RPO_SWMM        FLOW   RCH439  \n",
       "TS343  RPO_SWMM        NH3N   RCH443  \n",
       "TS443  RPO_SWMM        NOXN   RCH443  \n",
       "TS643  RPO_SWMM        TORP   RCH443  \n",
       "TS743  RPO_SWMM        PO4P   RCH443  \n",
       "\n",
       "[216 rows x 9 columns]"
      ]
     },
     "execution_count": 11,
     "metadata": {},
     "output_type": "execute_result"
    }
   ],
   "source": [
    "HSP2tools.readWDM('RPO_SWMM24NODES2017_wCBOD_June2019.wdm', HDFname)"
   ]
  },
  {
   "cell_type": "code",
   "execution_count": 12,
   "metadata": {},
   "outputs": [
    {
     "name": "stdout",
     "output_type": "stream",
     "text": [
      "        1 file(s) copied.\n"
     ]
    }
   ],
   "source": [
    "!copy GLWA_HSPF_June2019_Mon8MileDataFilled_WT_RW_v4.h5 GLWA_HSPF_June2019_Mon8MileDataFilled_WT_RW_v4_WDM2.h5"
   ]
  },
  {
   "cell_type": "code",
   "execution_count": 13,
   "metadata": {},
   "outputs": [
    {
     "data": {
      "text/html": [
       "<div>\n",
       "<style scoped>\n",
       "    .dataframe tbody tr th:only-of-type {\n",
       "        vertical-align: middle;\n",
       "    }\n",
       "\n",
       "    .dataframe tbody tr th {\n",
       "        vertical-align: top;\n",
       "    }\n",
       "\n",
       "    .dataframe thead th {\n",
       "        text-align: right;\n",
       "    }\n",
       "</style>\n",
       "<table border=\"1\" class=\"dataframe\">\n",
       "  <thead>\n",
       "    <tr style=\"text-align: right;\">\n",
       "      <th></th>\n",
       "      <th>Start</th>\n",
       "      <th>Stop</th>\n",
       "      <th>Freq</th>\n",
       "      <th>Length</th>\n",
       "      <th>TSTYPE</th>\n",
       "      <th>TFILL</th>\n",
       "      <th>STAID</th>\n",
       "      <th>STNAM</th>\n",
       "      <th>SCENARIO</th>\n",
       "      <th>CONSTITUENT</th>\n",
       "      <th>LOCATION</th>\n",
       "    </tr>\n",
       "  </thead>\n",
       "  <tbody>\n",
       "    <tr>\n",
       "      <th>TS130</th>\n",
       "      <td>2017-01-01 00:00:00</td>\n",
       "      <td>2019-01-01 00:00:00</td>\n",
       "      <td>15min</td>\n",
       "      <td>70080</td>\n",
       "      <td>CBOD</td>\n",
       "      <td>-999.0</td>\n",
       "      <td>7Mi</td>\n",
       "      <td>NONE</td>\n",
       "      <td>CAL</td>\n",
       "      <td>CBOD</td>\n",
       "      <td>7MI</td>\n",
       "    </tr>\n",
       "    <tr>\n",
       "      <th>TS030</th>\n",
       "      <td>2017-01-01 00:00:00</td>\n",
       "      <td>2019-01-01 00:00:00</td>\n",
       "      <td>15min</td>\n",
       "      <td>70080</td>\n",
       "      <td>DO</td>\n",
       "      <td>-999.0</td>\n",
       "      <td>7Mi</td>\n",
       "      <td>NONE</td>\n",
       "      <td>CAL</td>\n",
       "      <td>DO</td>\n",
       "      <td>7MI</td>\n",
       "    </tr>\n",
       "    <tr>\n",
       "      <th>TS830</th>\n",
       "      <td>2017-01-01 00:00:00</td>\n",
       "      <td>2019-01-01 00:00:00</td>\n",
       "      <td>15min</td>\n",
       "      <td>70080</td>\n",
       "      <td>ECOL</td>\n",
       "      <td>-999.0</td>\n",
       "      <td>7Mi</td>\n",
       "      <td>NONE</td>\n",
       "      <td>CAL</td>\n",
       "      <td>ECOL</td>\n",
       "      <td>7MI</td>\n",
       "    </tr>\n",
       "    <tr>\n",
       "      <th>TS930</th>\n",
       "      <td>2017-01-01 00:00:00</td>\n",
       "      <td>2019-01-01 00:00:00</td>\n",
       "      <td>15min</td>\n",
       "      <td>70080</td>\n",
       "      <td>FLOW</td>\n",
       "      <td>-999.0</td>\n",
       "      <td>7Mi</td>\n",
       "      <td>NONE</td>\n",
       "      <td>CAL</td>\n",
       "      <td>FLOW</td>\n",
       "      <td>7MI</td>\n",
       "    </tr>\n",
       "    <tr>\n",
       "      <th>TS330</th>\n",
       "      <td>2017-01-01 00:00:00</td>\n",
       "      <td>2019-01-01 00:00:00</td>\n",
       "      <td>15min</td>\n",
       "      <td>70080</td>\n",
       "      <td>NH3N</td>\n",
       "      <td>-999.0</td>\n",
       "      <td>7Mi</td>\n",
       "      <td>NONE</td>\n",
       "      <td>CAL</td>\n",
       "      <td>NH3N</td>\n",
       "      <td>7MI</td>\n",
       "    </tr>\n",
       "    <tr>\n",
       "      <th>...</th>\n",
       "      <td>...</td>\n",
       "      <td>...</td>\n",
       "      <td>...</td>\n",
       "      <td>...</td>\n",
       "      <td>...</td>\n",
       "      <td>...</td>\n",
       "      <td>...</td>\n",
       "      <td>...</td>\n",
       "      <td>...</td>\n",
       "      <td>...</td>\n",
       "      <td>...</td>\n",
       "    </tr>\n",
       "    <tr>\n",
       "      <th>TS389</th>\n",
       "      <td>2017-01-01 00:00:00</td>\n",
       "      <td>2019-01-01 00:00:00</td>\n",
       "      <td>15min</td>\n",
       "      <td>70080</td>\n",
       "      <td>NH3N</td>\n",
       "      <td>-999.0</td>\n",
       "      <td>U9</td>\n",
       "      <td>NONE</td>\n",
       "      <td>CAL</td>\n",
       "      <td>NH3N</td>\n",
       "      <td>U9</td>\n",
       "    </tr>\n",
       "    <tr>\n",
       "      <th>TS489</th>\n",
       "      <td>2017-01-01 00:00:00</td>\n",
       "      <td>2019-01-01 00:00:00</td>\n",
       "      <td>15min</td>\n",
       "      <td>70080</td>\n",
       "      <td>NOXN</td>\n",
       "      <td>-999.0</td>\n",
       "      <td>U9</td>\n",
       "      <td>NONE</td>\n",
       "      <td>CAL</td>\n",
       "      <td>NOXN</td>\n",
       "      <td>U9</td>\n",
       "    </tr>\n",
       "    <tr>\n",
       "      <th>TS789</th>\n",
       "      <td>2017-01-01 00:00:00</td>\n",
       "      <td>2019-01-01 00:00:00</td>\n",
       "      <td>15min</td>\n",
       "      <td>70080</td>\n",
       "      <td>PO4P</td>\n",
       "      <td>-999.0</td>\n",
       "      <td>U9</td>\n",
       "      <td>NONE</td>\n",
       "      <td>CAL</td>\n",
       "      <td>PO4P</td>\n",
       "      <td>U9</td>\n",
       "    </tr>\n",
       "    <tr>\n",
       "      <th>TS589</th>\n",
       "      <td>2017-01-01 00:00:00</td>\n",
       "      <td>2019-01-01 00:00:00</td>\n",
       "      <td>15min</td>\n",
       "      <td>70080</td>\n",
       "      <td>TORN</td>\n",
       "      <td>-999.0</td>\n",
       "      <td>U9</td>\n",
       "      <td>NONE</td>\n",
       "      <td>CAL</td>\n",
       "      <td>TORN</td>\n",
       "      <td>U9</td>\n",
       "    </tr>\n",
       "    <tr>\n",
       "      <th>TS689</th>\n",
       "      <td>2017-01-01 00:00:00</td>\n",
       "      <td>2019-01-01 00:00:00</td>\n",
       "      <td>15min</td>\n",
       "      <td>70080</td>\n",
       "      <td>TORP</td>\n",
       "      <td>-999.0</td>\n",
       "      <td>U9</td>\n",
       "      <td>NONE</td>\n",
       "      <td>CAL</td>\n",
       "      <td>TORP</td>\n",
       "      <td>U9</td>\n",
       "    </tr>\n",
       "  </tbody>\n",
       "</table>\n",
       "<p>540 rows × 11 columns</p>\n",
       "</div>"
      ],
      "text/plain": [
       "                     Start                 Stop   Freq  Length TSTYPE  TFILL  \\\n",
       "TS130  2017-01-01 00:00:00  2019-01-01 00:00:00  15min   70080   CBOD -999.0   \n",
       "TS030  2017-01-01 00:00:00  2019-01-01 00:00:00  15min   70080     DO -999.0   \n",
       "TS830  2017-01-01 00:00:00  2019-01-01 00:00:00  15min   70080   ECOL -999.0   \n",
       "TS930  2017-01-01 00:00:00  2019-01-01 00:00:00  15min   70080   FLOW -999.0   \n",
       "TS330  2017-01-01 00:00:00  2019-01-01 00:00:00  15min   70080   NH3N -999.0   \n",
       "...                    ...                  ...    ...     ...    ...    ...   \n",
       "TS389  2017-01-01 00:00:00  2019-01-01 00:00:00  15min   70080   NH3N -999.0   \n",
       "TS489  2017-01-01 00:00:00  2019-01-01 00:00:00  15min   70080   NOXN -999.0   \n",
       "TS789  2017-01-01 00:00:00  2019-01-01 00:00:00  15min   70080   PO4P -999.0   \n",
       "TS589  2017-01-01 00:00:00  2019-01-01 00:00:00  15min   70080   TORN -999.0   \n",
       "TS689  2017-01-01 00:00:00  2019-01-01 00:00:00  15min   70080   TORP -999.0   \n",
       "\n",
       "      STAID STNAM SCENARIO CONSTITUENT LOCATION  \n",
       "TS130   7Mi  NONE      CAL        CBOD      7MI  \n",
       "TS030   7Mi  NONE      CAL          DO      7MI  \n",
       "TS830   7Mi  NONE      CAL        ECOL      7MI  \n",
       "TS930   7Mi  NONE      CAL        FLOW      7MI  \n",
       "TS330   7Mi  NONE      CAL        NH3N      7MI  \n",
       "...     ...   ...      ...         ...      ...  \n",
       "TS389    U9  NONE      CAL        NH3N       U9  \n",
       "TS489    U9  NONE      CAL        NOXN       U9  \n",
       "TS789    U9  NONE      CAL        PO4P       U9  \n",
       "TS589    U9  NONE      CAL        TORN       U9  \n",
       "TS689    U9  NONE      CAL        TORP       U9  \n",
       "\n",
       "[540 rows x 11 columns]"
      ]
     },
     "execution_count": 13,
     "metadata": {},
     "output_type": "execute_result"
    }
   ],
   "source": [
    "HSP2tools.readWDM('WDM_2017_UpdatedBOD.wdm', HDFname)"
   ]
  },
  {
   "cell_type": "code",
   "execution_count": 14,
   "metadata": {},
   "outputs": [
    {
     "name": "stdout",
     "output_type": "stream",
     "text": [
      "        1 file(s) copied.\n"
     ]
    }
   ],
   "source": [
    "!copy GLWA_HSPF_June2019_Mon8MileDataFilled_WT_RW_v4.h5 GLWA_HSPF_June2019_Mon8MileDataFilled_WT_RW_v4_WDM3.h5"
   ]
  },
  {
   "cell_type": "code",
   "execution_count": null,
   "metadata": {},
   "outputs": [],
   "source": [
    "#Testing this with an alternative HDFname\n",
    "\n",
    "HSP2tools.readWDM('RPO_SWMM48LINKS2017_wCBOD_June2019.wdm', HDFname)\n",
    "#HSP2tools.readWDM('RPO_SWMM48LINKS2017_wCBOD_June2019.wdm', 'HDF_test.h5')"
   ]
  },
  {
   "cell_type": "code",
   "execution_count": null,
   "metadata": {
    "jupyter": {
     "outputs_hidden": false
    },
    "scrolled": true
   },
   "outputs": [],
   "source": [
    "# Commented Out due to long run times with no resolution. Used cells above to test reading in the WDM files separately.\n",
    "#\n",
    "#for name in wdmnames:\n",
    "#    HSP2tools.readWDM(name, HDFname)"
   ]
  },
  {
   "cell_type": "code",
   "execution_count": null,
   "metadata": {},
   "outputs": [],
   "source": [
    "!rename {HDFname} temp.h5\n",
    "!ptrepack temp.h5 {HDFname}\n",
    "!del temp.h5"
   ]
  },
  {
   "cell_type": "markdown",
   "metadata": {},
   "source": [
    "## RUN simulation"
   ]
  },
  {
   "cell_type": "markdown",
   "metadata": {},
   "source": [
    "Get HDF5 filename (in case you didn't need to run the above)"
   ]
  },
  {
   "cell_type": "code",
   "execution_count": null,
   "metadata": {
    "jupyter": {
     "outputs_hidden": false
    }
   },
   "outputs": [],
   "source": [
    "hdfname =  glob('*.h5')[0]\n",
    "hdfname"
   ]
  },
  {
   "cell_type": "code",
   "execution_count": null,
   "metadata": {
    "jupyter": {
     "outputs_hidden": false
    }
   },
   "outputs": [],
   "source": [
    "HSP2.run(hdfname,saveall=True)"
   ]
  },
  {
   "cell_type": "code",
   "execution_count": null,
   "metadata": {},
   "outputs": [],
   "source": []
  },
  {
   "cell_type": "code",
   "execution_count": null,
   "metadata": {
    "jupyter": {
     "outputs_hidden": false
    }
   },
   "outputs": [],
   "source": [
    "%timeit HSP2.run(hdfname, saveall=True)"
   ]
  },
  {
   "cell_type": "raw",
   "metadata": {},
   "source": [
    "Development note (SAVEALL = FALSE)\n",
    "\n",
    "SAVEALL = FALSE\n",
    "2017-04-21 22:27:24.17   Run completed\n",
    "1 loop, best of 3: 31.4 s per loop\n",
    "Ratio of HSP2/HSPF 31.4/24.4 = 1.3\n",
    "\n",
    "SAVEALL = TRUE\n",
    "2017-04-21 22:30:38.52   Run completed\n",
    "1 loop, best of 3: 36.5 s per loop\n",
    "Ratio of HSP2/HSPF  36.5/24.4 = 1.5"
   ]
  }
 ],
 "metadata": {
  "kernelspec": {
   "display_name": "Python 3",
   "language": "python",
   "name": "python3"
  },
  "language_info": {
   "codemirror_mode": {
    "name": "ipython",
    "version": 3
   },
   "file_extension": ".py",
   "mimetype": "text/x-python",
   "name": "python",
   "nbconvert_exporter": "python",
   "pygments_lexer": "ipython3",
   "version": "3.7.7"
  }
 },
 "nbformat": 4,
 "nbformat_minor": 4
}
